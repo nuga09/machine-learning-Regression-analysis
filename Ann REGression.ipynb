{
 "cells": [
  {
   "cell_type": "code",
   "execution_count": 1,
   "id": "minute-diagram",
   "metadata": {},
   "outputs": [],
   "source": [
    "import pandas as pd\n",
    "import numpy as np\n",
    "import tensorflow as tf \n"
   ]
  },
  {
   "cell_type": "code",
   "execution_count": 2,
   "id": "stainless-content",
   "metadata": {},
   "outputs": [
    {
     "data": {
      "text/plain": [
       "'2.4.1'"
      ]
     },
     "execution_count": 2,
     "metadata": {},
     "output_type": "execute_result"
    }
   ],
   "source": [
    "tf.__version__"
   ]
  },
  {
   "cell_type": "code",
   "execution_count": 5,
   "id": "cordless-shooting",
   "metadata": {},
   "outputs": [
    {
     "data": {
      "text/plain": [
       "array([[  14.96,   41.76, 1024.07,   73.17],\n",
       "       [  25.18,   62.96, 1020.04,   59.08],\n",
       "       [   5.11,   39.4 , 1012.16,   92.14],\n",
       "       ...,\n",
       "       [  31.32,   74.33, 1012.92,   36.48],\n",
       "       [  24.48,   69.45, 1013.86,   62.39],\n",
       "       [  21.6 ,   62.52, 1017.23,   67.87]])"
      ]
     },
     "execution_count": 5,
     "metadata": {},
     "output_type": "execute_result"
    }
   ],
   "source": [
    "dataset = pd.read_excel('Folds5x2_pp.xlsx')\n",
    "X = dataset.iloc[:, :-1].values\n",
    "y = dataset.iloc[:, -1].values\n"
   ]
  },
  {
   "cell_type": "code",
   "execution_count": 4,
   "id": "oriented-romantic",
   "metadata": {},
   "outputs": [],
   "source": [
    "from sklearn.model_selection import train_test_split\n",
    "X_train, X_test, y_train, y_test = train_test_split(X, y, test_size = 0.2, random_state = 0)\n"
   ]
  },
  {
   "cell_type": "code",
   "execution_count": 6,
   "id": "virgin-internet",
   "metadata": {},
   "outputs": [],
   "source": [
    "ann = tf.keras.models.Sequential()\n"
   ]
  },
  {
   "cell_type": "code",
   "execution_count": 7,
   "id": "iraqi-parks",
   "metadata": {},
   "outputs": [],
   "source": [
    "ann.add(tf.keras.layers.Dense(units=6, activation='relu'))\n"
   ]
  },
  {
   "cell_type": "code",
   "execution_count": 8,
   "id": "circular-crystal",
   "metadata": {},
   "outputs": [],
   "source": [
    "ann.add(tf.keras.layers.Dense(units=6, activation='relu'))\n"
   ]
  },
  {
   "cell_type": "code",
   "execution_count": 9,
   "id": "satisfactory-surveillance",
   "metadata": {},
   "outputs": [],
   "source": [
    "ann.add(tf.keras.layers.Dense(units=1))\n"
   ]
  },
  {
   "cell_type": "code",
   "execution_count": 10,
   "id": "military-morris",
   "metadata": {},
   "outputs": [],
   "source": [
    "ann.compile(optimizer = 'adam', loss = 'mean_squared_error')\n"
   ]
  },
  {
   "cell_type": "code",
   "execution_count": 11,
   "id": "removed-secondary",
   "metadata": {},
   "outputs": [
    {
     "name": "stdout",
     "output_type": "stream",
     "text": [
      "Epoch 1/100\n",
      "240/240 [==============================] - 0s 502us/step - loss: 9386.8244\n",
      "Epoch 2/100\n",
      "240/240 [==============================] - 0s 511us/step - loss: 184.8033\n",
      "Epoch 3/100\n",
      "240/240 [==============================] - 0s 519us/step - loss: 168.7270\n",
      "Epoch 4/100\n",
      "240/240 [==============================] - 0s 527us/step - loss: 155.8647\n",
      "Epoch 5/100\n",
      "240/240 [==============================] - 0s 507us/step - loss: 139.9478\n",
      "Epoch 6/100\n",
      "240/240 [==============================] - 0s 511us/step - loss: 122.5282\n",
      "Epoch 7/100\n",
      "240/240 [==============================] - 0s 536us/step - loss: 104.3054\n",
      "Epoch 8/100\n",
      "240/240 [==============================] - 0s 527us/step - loss: 89.0073\n",
      "Epoch 9/100\n",
      "240/240 [==============================] - 0s 519us/step - loss: 72.9281\n",
      "Epoch 10/100\n",
      "240/240 [==============================] - 0s 515us/step - loss: 60.6943\n",
      "Epoch 11/100\n",
      "240/240 [==============================] - 0s 511us/step - loss: 52.6469\n",
      "Epoch 12/100\n",
      "240/240 [==============================] - 0s 494us/step - loss: 45.8575\n",
      "Epoch 13/100\n",
      "240/240 [==============================] - 0s 494us/step - loss: 39.1093\n",
      "Epoch 14/100\n",
      "240/240 [==============================] - 0s 559us/step - loss: 36.1858\n",
      "Epoch 15/100\n",
      "240/240 [==============================] - 0s 523us/step - loss: 32.7428\n",
      "Epoch 16/100\n",
      "240/240 [==============================] - 0s 557us/step - loss: 32.2200\n",
      "Epoch 17/100\n",
      "240/240 [==============================] - 0s 540us/step - loss: 30.9283\n",
      "Epoch 18/100\n",
      "240/240 [==============================] - 0s 527us/step - loss: 30.6864\n",
      "Epoch 19/100\n",
      "240/240 [==============================] - 0s 571us/step - loss: 31.5214\n",
      "Epoch 20/100\n",
      "240/240 [==============================] - 0s 498us/step - loss: 30.1301\n",
      "Epoch 21/100\n",
      "240/240 [==============================] - 0s 501us/step - loss: 29.3834\n",
      "Epoch 22/100\n",
      "240/240 [==============================] - 0s 510us/step - loss: 29.8535\n",
      "Epoch 23/100\n",
      "240/240 [==============================] - 0s 523us/step - loss: 29.3374\n",
      "Epoch 24/100\n",
      "240/240 [==============================] - 0s 540us/step - loss: 29.9708\n",
      "Epoch 25/100\n",
      "240/240 [==============================] - 0s 506us/step - loss: 30.3269\n",
      "Epoch 26/100\n",
      "240/240 [==============================] - 0s 510us/step - loss: 29.2821\n",
      "Epoch 27/100\n",
      "240/240 [==============================] - 0s 499us/step - loss: 27.5794\n",
      "Epoch 28/100\n",
      "240/240 [==============================] - 0s 490us/step - loss: 27.7270\n",
      "Epoch 29/100\n",
      "240/240 [==============================] - 0s 494us/step - loss: 28.9855\n",
      "Epoch 30/100\n",
      "240/240 [==============================] - 0s 498us/step - loss: 27.8464\n",
      "Epoch 31/100\n",
      "240/240 [==============================] - 0s 498us/step - loss: 28.4533\n",
      "Epoch 32/100\n",
      "240/240 [==============================] - 0s 518us/step - loss: 28.0792\n",
      "Epoch 33/100\n",
      "240/240 [==============================] - 0s 506us/step - loss: 28.5335\n",
      "Epoch 34/100\n",
      "240/240 [==============================] - 0s 502us/step - loss: 27.4273\n",
      "Epoch 35/100\n",
      "240/240 [==============================] - 0s 523us/step - loss: 27.1707\n",
      "Epoch 36/100\n",
      "240/240 [==============================] - 0s 523us/step - loss: 27.8273\n",
      "Epoch 37/100\n",
      "240/240 [==============================] - 0s 498us/step - loss: 27.6913\n",
      "Epoch 38/100\n",
      "240/240 [==============================] - 0s 507us/step - loss: 27.2319\n",
      "Epoch 39/100\n",
      "240/240 [==============================] - 0s 511us/step - loss: 27.2728\n",
      "Epoch 40/100\n",
      "240/240 [==============================] - 0s 515us/step - loss: 28.2316\n",
      "Epoch 41/100\n",
      "240/240 [==============================] - 0s 548us/step - loss: 26.8995\n",
      "Epoch 42/100\n",
      "240/240 [==============================] - 0s 519us/step - loss: 25.9015\n",
      "Epoch 43/100\n",
      "240/240 [==============================] - 0s 511us/step - loss: 27.6718\n",
      "Epoch 44/100\n",
      "240/240 [==============================] - 0s 509us/step - loss: 27.5867\n",
      "Epoch 45/100\n",
      "240/240 [==============================] - 0s 506us/step - loss: 28.1688\n",
      "Epoch 46/100\n",
      "240/240 [==============================] - 0s 494us/step - loss: 26.6406\n",
      "Epoch 47/100\n",
      "240/240 [==============================] - 0s 515us/step - loss: 26.1360\n",
      "Epoch 48/100\n",
      "240/240 [==============================] - 0s 496us/step - loss: 27.3761\n",
      "Epoch 49/100\n",
      "240/240 [==============================] - 0s 494us/step - loss: 27.1188\n",
      "Epoch 50/100\n",
      "240/240 [==============================] - 0s 540us/step - loss: 27.0865\n",
      "Epoch 51/100\n",
      "240/240 [==============================] - 0s 515us/step - loss: 26.1803\n",
      "Epoch 52/100\n",
      "240/240 [==============================] - 0s 527us/step - loss: 29.2430\n",
      "Epoch 53/100\n",
      "240/240 [==============================] - 0s 536us/step - loss: 26.9892\n",
      "Epoch 54/100\n",
      "240/240 [==============================] - 0s 569us/step - loss: 27.0982\n",
      "Epoch 55/100\n",
      "240/240 [==============================] - 0s 536us/step - loss: 26.7065\n",
      "Epoch 56/100\n",
      "240/240 [==============================] - 0s 536us/step - loss: 26.2073\n",
      "Epoch 57/100\n",
      "240/240 [==============================] - 0s 536us/step - loss: 26.4276\n",
      "Epoch 58/100\n",
      "240/240 [==============================] - 0s 527us/step - loss: 27.2256\n",
      "Epoch 59/100\n",
      "240/240 [==============================] - 0s 498us/step - loss: 28.2286\n",
      "Epoch 60/100\n",
      "240/240 [==============================] - 0s 532us/step - loss: 27.8487\n",
      "Epoch 61/100\n",
      "240/240 [==============================] - 0s 534us/step - loss: 27.2398\n",
      "Epoch 62/100\n",
      "240/240 [==============================] - 0s 519us/step - loss: 26.1045\n",
      "Epoch 63/100\n",
      "240/240 [==============================] - 0s 569us/step - loss: 26.3264\n",
      "Epoch 64/100\n",
      "240/240 [==============================] - 0s 523us/step - loss: 26.9458\n",
      "Epoch 65/100\n",
      "240/240 [==============================] - 0s 515us/step - loss: 26.2171\n",
      "Epoch 66/100\n",
      "240/240 [==============================] - 0s 519us/step - loss: 26.3728\n",
      "Epoch 67/100\n",
      "240/240 [==============================] - 0s 544us/step - loss: 27.1783\n",
      "Epoch 68/100\n",
      "240/240 [==============================] - 0s 515us/step - loss: 27.9120\n",
      "Epoch 69/100\n",
      "240/240 [==============================] - 0s 535us/step - loss: 26.2821\n",
      "Epoch 70/100\n",
      "240/240 [==============================] - 0s 536us/step - loss: 27.2091\n",
      "Epoch 71/100\n",
      "240/240 [==============================] - 0s 519us/step - loss: 27.0131\n",
      "Epoch 72/100\n",
      "240/240 [==============================] - 0s 573us/step - loss: 26.1274\n",
      "Epoch 73/100\n",
      "240/240 [==============================] - 0s 523us/step - loss: 26.7067\n",
      "Epoch 74/100\n",
      "240/240 [==============================] - 0s 523us/step - loss: 26.8270\n",
      "Epoch 75/100\n",
      "240/240 [==============================] - 0s 527us/step - loss: 27.3409\n",
      "Epoch 76/100\n",
      "240/240 [==============================] - 0s 511us/step - loss: 28.2621\n",
      "Epoch 77/100\n",
      "240/240 [==============================] - 0s 502us/step - loss: 27.1900\n",
      "Epoch 78/100\n",
      "240/240 [==============================] - 0s 612us/step - loss: 26.0444\n",
      "Epoch 79/100\n",
      "240/240 [==============================] - 0s 530us/step - loss: 25.8837\n",
      "Epoch 80/100\n",
      "240/240 [==============================] - 0s 506us/step - loss: 27.1273\n",
      "Epoch 81/100\n",
      "240/240 [==============================] - 0s 546us/step - loss: 27.0130\n",
      "Epoch 82/100\n",
      "240/240 [==============================] - 0s 586us/step - loss: 27.6820\n",
      "Epoch 83/100\n",
      "240/240 [==============================] - 0s 502us/step - loss: 27.7627\n",
      "Epoch 84/100\n",
      "240/240 [==============================] - 0s 544us/step - loss: 26.8504\n",
      "Epoch 85/100\n",
      "240/240 [==============================] - 0s 498us/step - loss: 26.4729\n",
      "Epoch 86/100\n",
      "240/240 [==============================] - 0s 531us/step - loss: 27.4222\n",
      "Epoch 87/100\n",
      "240/240 [==============================] - 0s 502us/step - loss: 26.1950\n",
      "Epoch 88/100\n",
      "240/240 [==============================] - 0s 561us/step - loss: 27.9353\n",
      "Epoch 89/100\n",
      "240/240 [==============================] - 0s 524us/step - loss: 27.1372\n",
      "Epoch 90/100\n",
      "240/240 [==============================] - 0s 531us/step - loss: 27.6483\n",
      "Epoch 91/100\n",
      "240/240 [==============================] - 0s 503us/step - loss: 27.3225\n",
      "Epoch 92/100\n",
      "240/240 [==============================] - 0s 502us/step - loss: 25.7132\n",
      "Epoch 93/100\n",
      "240/240 [==============================] - 0s 506us/step - loss: 26.8683\n",
      "Epoch 94/100\n",
      "240/240 [==============================] - 0s 496us/step - loss: 25.7794\n",
      "Epoch 95/100\n",
      "240/240 [==============================] - 0s 502us/step - loss: 26.9305\n",
      "Epoch 96/100\n",
      "240/240 [==============================] - 0s 502us/step - loss: 27.4698\n",
      "Epoch 97/100\n",
      "240/240 [==============================] - 0s 544us/step - loss: 25.4495\n",
      "Epoch 98/100\n",
      "240/240 [==============================] - 0s 488us/step - loss: 26.3040\n",
      "Epoch 99/100\n",
      "240/240 [==============================] - 0s 513us/step - loss: 26.1394\n",
      "Epoch 100/100\n",
      "240/240 [==============================] - 0s 540us/step - loss: 27.1227\n"
     ]
    },
    {
     "data": {
      "text/plain": [
       "<tensorflow.python.keras.callbacks.History at 0x2301fca1188>"
      ]
     },
     "execution_count": 11,
     "metadata": {},
     "output_type": "execute_result"
    }
   ],
   "source": [
    "ann.fit(X_train, y_train, batch_size = 32, epochs = 100)\n"
   ]
  },
  {
   "cell_type": "code",
   "execution_count": 12,
   "id": "further-binary",
   "metadata": {},
   "outputs": [
    {
     "name": "stdout",
     "output_type": "stream",
     "text": [
      "[[431.59 431.23]\n",
      " [462.63 460.01]\n",
      " [466.11 461.14]\n",
      " ...\n",
      " [473.38 473.26]\n",
      " [440.14 438.  ]\n",
      " [459.36 463.28]]\n"
     ]
    }
   ],
   "source": [
    "y_pred = ann.predict(X_test)\n",
    "np.set_printoptions(precision=2)\n",
    "print(np.concatenate((y_pred.reshape(len(y_pred),1), y_test.reshape(len(y_test),1)),1))"
   ]
  },
  {
   "cell_type": "code",
   "execution_count": 24,
   "id": "rubber-token",
   "metadata": {},
   "outputs": [
    {
     "data": {
      "text/plain": [
       "(3.959916470486791, 24.66635054771293)"
      ]
     },
     "execution_count": 24,
     "metadata": {},
     "output_type": "execute_result"
    }
   ],
   "source": [
    "from sklearn.metrics import accuracy_score,f1_score,mean_absolute_error,mean_squared_error\n",
    "\n",
    "\n",
    "a=mean_absolute_error(y_test, y_pred)\n",
    "b=mean_squared_error(y_test, y_pred)\n",
    "a,b"
   ]
  },
  {
   "cell_type": "code",
   "execution_count": null,
   "id": "another-context",
   "metadata": {},
   "outputs": [],
   "source": []
  }
 ],
 "metadata": {
  "kernelspec": {
   "display_name": "Python 3",
   "language": "python",
   "name": "python3"
  },
  "language_info": {
   "codemirror_mode": {
    "name": "ipython",
    "version": 3
   },
   "file_extension": ".py",
   "mimetype": "text/x-python",
   "name": "python",
   "nbconvert_exporter": "python",
   "pygments_lexer": "ipython3",
   "version": "3.7.9"
  }
 },
 "nbformat": 4,
 "nbformat_minor": 5
}
