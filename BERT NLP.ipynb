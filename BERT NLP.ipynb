{
 "cells": [
  {
   "cell_type": "code",
   "execution_count": 1,
   "id": "particular-delhi",
   "metadata": {},
   "outputs": [
    {
     "name": "stdout",
     "output_type": "stream",
     "text": [
      "Collecting ktrain\n",
      "  Downloading ktrain-0.26.2.tar.gz (25.3 MB)\n",
      "Requirement already satisfied: scikit-learn==0.23.2 in c:\\users\\nugad\\anaconda3\\lib\\site-packages (from ktrain) (0.23.2)\n",
      "Requirement already satisfied: matplotlib>=3.0.0 in c:\\users\\nugad\\anaconda3\\lib\\site-packages (from ktrain) (3.3.2)\n",
      "Requirement already satisfied: pandas>=1.0.1 in c:\\users\\nugad\\anaconda3\\lib\\site-packages (from ktrain) (1.2.1)\n",
      "Requirement already satisfied: requests in c:\\users\\nugad\\anaconda3\\lib\\site-packages (from ktrain) (2.25.1)\n",
      "Requirement already satisfied: joblib in c:\\users\\nugad\\anaconda3\\lib\\site-packages (from ktrain) (1.0.0)\n",
      "Requirement already satisfied: packaging in c:\\users\\nugad\\anaconda3\\lib\\site-packages (from ktrain) (20.9)\n",
      "Requirement already satisfied: ipython in c:\\users\\nugad\\anaconda3\\lib\\site-packages (from ktrain) (7.20.0)\n",
      "Requirement already satisfied: networkx>=2.3 in c:\\users\\nugad\\anaconda3\\lib\\site-packages (from ktrain) (2.5)\n",
      "Requirement already satisfied: numpy>=1.13.3 in c:\\users\\nugad\\anaconda3\\lib\\site-packages (from scikit-learn==0.23.2->ktrain) (1.19.2)\n",
      "Requirement already satisfied: scipy>=0.19.1 in c:\\users\\nugad\\anaconda3\\lib\\site-packages (from scikit-learn==0.23.2->ktrain) (1.6.0)\n",
      "Requirement already satisfied: threadpoolctl>=2.0.0 in c:\\users\\nugad\\anaconda3\\lib\\site-packages (from scikit-learn==0.23.2->ktrain) (2.1.0)\n",
      "Collecting seqeval==0.0.19\n",
      "  Downloading seqeval-0.0.19.tar.gz (30 kB)\n",
      "Requirement already satisfied: Keras>=2.2.4 in c:\\users\\nugad\\anaconda3\\lib\\site-packages (from seqeval==0.0.19->ktrain) (2.2.4)\n",
      "Collecting fastprogress>=0.1.21\n",
      "  Downloading fastprogress-1.0.0-py3-none-any.whl (12 kB)\n",
      "Requirement already satisfied: pyyaml in c:\\users\\nugad\\anaconda3\\lib\\site-packages (from Keras>=2.2.4->seqeval==0.0.19->ktrain) (5.4.1)\n",
      "Requirement already satisfied: six>=1.9.0 in c:\\users\\nugad\\anaconda3\\lib\\site-packages (from Keras>=2.2.4->seqeval==0.0.19->ktrain) (1.15.0)\n",
      "Requirement already satisfied: keras-applications>=1.0.6 in c:\\users\\nugad\\anaconda3\\lib\\site-packages (from Keras>=2.2.4->seqeval==0.0.19->ktrain) (1.0.8)\n",
      "Requirement already satisfied: keras-preprocessing>=1.0.5 in c:\\users\\nugad\\anaconda3\\lib\\site-packages (from Keras>=2.2.4->seqeval==0.0.19->ktrain) (1.1.2)\n",
      "Requirement already satisfied: h5py in c:\\users\\nugad\\anaconda3\\lib\\site-packages (from Keras>=2.2.4->seqeval==0.0.19->ktrain) (2.10.0)\n",
      "Collecting keras_bert>=0.86.0\n",
      "  Downloading keras-bert-0.86.0.tar.gz (26 kB)\n",
      "Collecting Keras>=2.2.4\n",
      "  Using cached Keras-2.4.3-py2.py3-none-any.whl (36 kB)\n",
      "Collecting keras-transformer>=0.38.0\n",
      "  Downloading keras-transformer-0.38.0.tar.gz (11 kB)\n",
      "Collecting keras-embed-sim>=0.8.0\n",
      "  Downloading keras-embed-sim-0.8.0.tar.gz (4.1 kB)\n",
      "Collecting keras-layer-normalization>=0.14.0\n",
      "  Downloading keras-layer-normalization-0.14.0.tar.gz (4.3 kB)\n",
      "Collecting keras-multi-head>=0.27.0\n",
      "  Downloading keras-multi-head-0.27.0.tar.gz (14 kB)\n",
      "Collecting keras-self-attention==0.46.0\n",
      "  Downloading keras-self-attention-0.46.0.tar.gz (10 kB)\n",
      "Collecting keras-pos-embd>=0.11.0\n",
      "  Downloading keras-pos-embd-0.11.0.tar.gz (5.9 kB)\n",
      "Collecting keras-position-wise-feed-forward>=0.6.0\n",
      "  Downloading keras-position-wise-feed-forward-0.6.0.tar.gz (4.4 kB)\n",
      "Requirement already satisfied: pyparsing!=2.0.4,!=2.1.2,!=2.1.6,>=2.0.3 in c:\\users\\nugad\\anaconda3\\lib\\site-packages (from matplotlib>=3.0.0->ktrain) (2.4.7)\n",
      "Requirement already satisfied: certifi>=2020.06.20 in c:\\users\\nugad\\anaconda3\\lib\\site-packages (from matplotlib>=3.0.0->ktrain) (2020.12.5)\n",
      "Requirement already satisfied: pillow>=6.2.0 in c:\\users\\nugad\\anaconda3\\lib\\site-packages (from matplotlib>=3.0.0->ktrain) (8.1.0)\n",
      "Requirement already satisfied: python-dateutil>=2.1 in c:\\users\\nugad\\anaconda3\\lib\\site-packages (from matplotlib>=3.0.0->ktrain) (2.8.1)\n",
      "Requirement already satisfied: cycler>=0.10 in c:\\users\\nugad\\anaconda3\\lib\\site-packages (from matplotlib>=3.0.0->ktrain) (0.10.0)\n",
      "Requirement already satisfied: kiwisolver>=1.0.1 in c:\\users\\nugad\\anaconda3\\lib\\site-packages (from matplotlib>=3.0.0->ktrain) (1.3.1)\n",
      "Requirement already satisfied: decorator>=4.3.0 in c:\\users\\nugad\\anaconda3\\lib\\site-packages (from networkx>=2.3->ktrain) (4.4.2)\n",
      "Requirement already satisfied: pytz>=2017.3 in c:\\users\\nugad\\anaconda3\\lib\\site-packages (from pandas>=1.0.1->ktrain) (2021.1)\n",
      "Collecting transformers<=4.3.3,>=4.0.0\n",
      "  Downloading transformers-4.3.3-py3-none-any.whl (1.9 MB)\n",
      "Requirement already satisfied: filelock in c:\\users\\nugad\\anaconda3\\lib\\site-packages (from transformers<=4.3.3,>=4.0.0->ktrain) (3.0.12)\n",
      "Requirement already satisfied: tqdm>=4.27 in c:\\users\\nugad\\anaconda3\\lib\\site-packages (from transformers<=4.3.3,>=4.0.0->ktrain) (4.56.0)\n",
      "Requirement already satisfied: regex!=2019.12.17 in c:\\users\\nugad\\anaconda3\\lib\\site-packages (from transformers<=4.3.3,>=4.0.0->ktrain) (2020.11.13)\n",
      "Requirement already satisfied: importlib-metadata in c:\\users\\nugad\\anaconda3\\lib\\site-packages (from transformers<=4.3.3,>=4.0.0->ktrain) (2.0.0)\n",
      "Collecting tokenizers<0.11,>=0.10.1\n",
      "  Downloading tokenizers-0.10.2-cp37-cp37m-win_amd64.whl (2.0 MB)\n",
      "Collecting cchardet\n",
      "  Downloading cchardet-2.1.7-cp37-cp37m-win_amd64.whl (114 kB)\n",
      "Requirement already satisfied: zipp>=0.5 in c:\\users\\nugad\\anaconda3\\lib\\site-packages (from importlib-metadata->transformers<=4.3.3,>=4.0.0->ktrain) (3.4.0)\n",
      "Requirement already satisfied: pygments in c:\\users\\nugad\\anaconda3\\lib\\site-packages (from ipython->ktrain) (2.7.4)\n",
      "Requirement already satisfied: setuptools>=18.5 in c:\\users\\nugad\\anaconda3\\lib\\site-packages (from ipython->ktrain) (52.0.0.post20210125)\n",
      "Requirement already satisfied: prompt-toolkit!=3.0.0,!=3.0.1,<3.1.0,>=2.0.0 in c:\\users\\nugad\\anaconda3\\lib\\site-packages (from ipython->ktrain) (3.0.8)\n",
      "Requirement already satisfied: pickleshare in c:\\users\\nugad\\anaconda3\\lib\\site-packages (from ipython->ktrain) (0.7.5)\n",
      "Requirement already satisfied: jedi>=0.16 in c:\\users\\nugad\\anaconda3\\lib\\site-packages (from ipython->ktrain) (0.17.2)\n",
      "Requirement already satisfied: colorama in c:\\users\\nugad\\anaconda3\\lib\\site-packages (from ipython->ktrain) (0.4.4)\n",
      "Requirement already satisfied: traitlets>=4.2 in c:\\users\\nugad\\anaconda3\\lib\\site-packages (from ipython->ktrain) (5.0.5)\n",
      "Requirement already satisfied: backcall in c:\\users\\nugad\\anaconda3\\lib\\site-packages (from ipython->ktrain) (0.2.0)\n",
      "Requirement already satisfied: parso<0.8.0,>=0.7.0 in c:\\users\\nugad\\anaconda3\\lib\\site-packages (from jedi>=0.16->ipython->ktrain) (0.7.0)\n",
      "Requirement already satisfied: wcwidth in c:\\users\\nugad\\anaconda3\\lib\\site-packages (from prompt-toolkit!=3.0.0,!=3.0.1,<3.1.0,>=2.0.0->ipython->ktrain) (0.2.5)\n",
      "Requirement already satisfied: ipython-genutils in c:\\users\\nugad\\anaconda3\\lib\\site-packages (from traitlets>=4.2->ipython->ktrain) (0.2.0)\n",
      "Collecting jieba\n",
      "  Downloading jieba-0.42.1.tar.gz (19.2 MB)\n",
      "Collecting langdetect\n",
      "  Downloading langdetect-1.0.9.tar.gz (981 kB)\n",
      "Requirement already satisfied: idna<3,>=2.5 in c:\\users\\nugad\\anaconda3\\lib\\site-packages (from requests->ktrain) (2.10)\n",
      "Requirement already satisfied: urllib3<1.27,>=1.21.1 in c:\\users\\nugad\\anaconda3\\lib\\site-packages (from requests->ktrain) (1.26.3)\n",
      "Requirement already satisfied: chardet<5,>=3.0.2 in c:\\users\\nugad\\anaconda3\\lib\\site-packages (from requests->ktrain) (4.0.0)\n",
      "Collecting sacremoses\n",
      "  Downloading sacremoses-0.0.45-py3-none-any.whl (895 kB)\n",
      "Requirement already satisfied: click in c:\\users\\nugad\\anaconda3\\lib\\site-packages (from sacremoses->transformers<=4.3.3,>=4.0.0->ktrain) (7.1.2)\n",
      "Collecting sentencepiece\n",
      "  Downloading sentencepiece-0.1.95-cp37-cp37m-win_amd64.whl (1.2 MB)\n",
      "Collecting syntok\n",
      "  Downloading syntok-1.3.1.tar.gz (23 kB)\n",
      "Collecting whoosh\n",
      "  Downloading Whoosh-2.7.4-py2.py3-none-any.whl (468 kB)\n",
      "Building wheels for collected packages: ktrain, seqeval, keras-bert, keras-transformer, keras-embed-sim, keras-layer-normalization, keras-multi-head, keras-self-attention, keras-pos-embd, keras-position-wise-feed-forward, jieba, langdetect, syntok\n",
      "  Building wheel for ktrain (setup.py): started\n",
      "  Building wheel for ktrain (setup.py): finished with status 'done'\n",
      "  Created wheel for ktrain: filename=ktrain-0.26.2-py3-none-any.whl size=25277794 sha256=66bcdc325a10ebf8a7b04dc0f3cb79596e2e25219e9f401d1d5daf0b734aef66\n",
      "  Stored in directory: c:\\users\\nugad\\appdata\\local\\pip\\cache\\wheels\\5b\\bb\\d3\\0f8bf78120e425779a57cd17b164765a495480cff1f6200b4c\n",
      "  Building wheel for seqeval (setup.py): started\n",
      "  Building wheel for seqeval (setup.py): finished with status 'done'\n",
      "  Created wheel for seqeval: filename=seqeval-0.0.19-py3-none-any.whl size=9918 sha256=6c85dedf73e0f1a31850c3c5567205bf80884d18d65844d4731023bc5a8975f2\n",
      "  Stored in directory: c:\\users\\nugad\\appdata\\local\\pip\\cache\\wheels\\f5\\ac\\f1\\4e13d7aff05c722d142b7d20a88ad63f9aab11b895411241a4\n",
      "  Building wheel for keras-bert (setup.py): started\n",
      "  Building wheel for keras-bert (setup.py): finished with status 'done'\n",
      "  Created wheel for keras-bert: filename=keras_bert-0.86.0-py3-none-any.whl size=34143 sha256=fae2668c6dad08d07079009005759de4ee00c0583f29333c255f304874903d57\n",
      "  Stored in directory: c:\\users\\nugad\\appdata\\local\\pip\\cache\\wheels\\fc\\c1\\0a\\eb9187261b3f192ac314aefb54fe66f50540c3edb906599633\n",
      "  Building wheel for keras-transformer (setup.py): started\n",
      "  Building wheel for keras-transformer (setup.py): finished with status 'done'\n",
      "  Created wheel for keras-transformer: filename=keras_transformer-0.38.0-py3-none-any.whl size=12941 sha256=0d1c0dcfc0dc5c0dbc646863b2c86875097597d5583fe303d82d63639e79edd2\n",
      "  Stored in directory: c:\\users\\nugad\\appdata\\local\\pip\\cache\\wheels\\b3\\67\\58\\bcfb43b6ab764496a446021a8d05991adffd48c16582381326\n",
      "  Building wheel for keras-embed-sim (setup.py): started\n",
      "  Building wheel for keras-embed-sim (setup.py): finished with status 'done'\n",
      "  Created wheel for keras-embed-sim: filename=keras_embed_sim-0.8.0-py3-none-any.whl size=4557 sha256=a4c500d51c140458b9a2488669ad4b93690e11d550cc21b5d2a0fa8467710563\n",
      "  Stored in directory: c:\\users\\nugad\\appdata\\local\\pip\\cache\\wheels\\2d\\31\\2c\\2d3fb4442f6112b92cd56bf801ff25421f302c755f935d4a79\n",
      "  Building wheel for keras-layer-normalization (setup.py): started\n",
      "  Building wheel for keras-layer-normalization (setup.py): finished with status 'done'\n",
      "  Created wheel for keras-layer-normalization: filename=keras_layer_normalization-0.14.0-py3-none-any.whl size=5267 sha256=4abb163e06bfd94d787b30a165053f7659e9868dcb691158f34e8eaa248908dd\n",
      "  Stored in directory: c:\\users\\nugad\\appdata\\local\\pip\\cache\\wheels\\58\\14\\24\\76b0d99b7d9cc17e110956e0fae825a5da3e70a60273220502\n",
      "  Building wheel for keras-multi-head (setup.py): started\n",
      "  Building wheel for keras-multi-head (setup.py): finished with status 'done'\n",
      "  Created wheel for keras-multi-head: filename=keras_multi_head-0.27.0-py3-none-any.whl size=15615 sha256=cf3eee3b92a4a1d10f4bd57da4a099292a974322458395f33b2946e759e19471\n",
      "  Stored in directory: c:\\users\\nugad\\appdata\\local\\pip\\cache\\wheels\\21\\38\\cc\\50e6d62d6d458e8223d3ddaef7c622b67ae57708193918051b\n",
      "  Building wheel for keras-self-attention (setup.py): started\n",
      "  Building wheel for keras-self-attention (setup.py): finished with status 'done'\n",
      "  Created wheel for keras-self-attention: filename=keras_self_attention-0.46.0-py3-none-any.whl size=17277 sha256=6a551224bf4876b3f113bfab68e3eb5779afdeece51fe4ac4568d11c1b2e51d7\n",
      "  Stored in directory: c:\\users\\nugad\\appdata\\local\\pip\\cache\\wheels\\ec\\f7\\48\\30de93f8333298bad9202aab9b04db0cfd58dcd379b5a5ef1c\n",
      "  Building wheel for keras-pos-embd (setup.py): started\n",
      "  Building wheel for keras-pos-embd (setup.py): finished with status 'done'\n",
      "  Created wheel for keras-pos-embd: filename=keras_pos_embd-0.11.0-py3-none-any.whl size=7552 sha256=1cb9abd61ccdb31e426738a435b9aba678899fbf3d8b02a7f14155415dfa53be\n",
      "  Stored in directory: c:\\users\\nugad\\appdata\\local\\pip\\cache\\wheels\\65\\66\\e9\\c7eafddc29b81a98786f12b48a2aee7e3c633f6bf4a62cbc20\n",
      "  Building wheel for keras-position-wise-feed-forward (setup.py): started\n",
      "  Building wheel for keras-position-wise-feed-forward (setup.py): finished with status 'done'\n",
      "  Created wheel for keras-position-wise-feed-forward: filename=keras_position_wise_feed_forward-0.6.0-py3-none-any.whl size=5623 sha256=21b157691e0515147909e0386db9f2499edce4ff88f679718e046af23f339b68\n",
      "  Stored in directory: c:\\users\\nugad\\appdata\\local\\pip\\cache\\wheels\\9e\\53\\a2\\651c985b605e6a6c48688c779808eb1956fabb910b0557d871\n",
      "  Building wheel for jieba (setup.py): started\n",
      "  Building wheel for jieba (setup.py): finished with status 'done'\n",
      "  Created wheel for jieba: filename=jieba-0.42.1-py3-none-any.whl size=19314477 sha256=68688906bf61c273ac565038e6c781ac6c9b69c69bcb7037cc60926c39653cf8\n",
      "  Stored in directory: c:\\users\\nugad\\appdata\\local\\pip\\cache\\wheels\\24\\aa\\17\\5bc7c72e9a37990a9620cc3aad0acad1564dcff6dbc2359de3\n",
      "  Building wheel for langdetect (setup.py): started\n",
      "  Building wheel for langdetect (setup.py): finished with status 'done'\n",
      "  Created wheel for langdetect: filename=langdetect-1.0.9-py3-none-any.whl size=993221 sha256=415fbd881ca9b04944f32ab6e1dc3ccc6809013672806adf6aef9a411d7b6b2e\n",
      "  Stored in directory: c:\\users\\nugad\\appdata\\local\\pip\\cache\\wheels\\c5\\96\\8a\\f90c59ed25d75e50a8c10a1b1c2d4c402e4dacfa87f3aff36a\n",
      "  Building wheel for syntok (setup.py): started\n",
      "  Building wheel for syntok (setup.py): finished with status 'done'\n",
      "  Created wheel for syntok: filename=syntok-1.3.1-py3-none-any.whl size=20917 sha256=03727f9a9e84843e00113d80407a62ae10ff6f43784bf6e0d95cc1ad590c292d\n",
      "  Stored in directory: c:\\users\\nugad\\appdata\\local\\pip\\cache\\wheels\\5e\\c2\\33\\e5d7d8f2f8b0c391d76bf82b844c3151bf23a84d75d02b185f\n",
      "Successfully built ktrain seqeval keras-bert keras-transformer keras-embed-sim keras-layer-normalization keras-multi-head keras-self-attention keras-pos-embd keras-position-wise-feed-forward jieba langdetect syntok\n",
      "Installing collected packages: Keras, keras-self-attention, keras-position-wise-feed-forward, keras-pos-embd, keras-multi-head, keras-layer-normalization, keras-embed-sim, tokenizers, sacremoses, keras-transformer, whoosh, transformers, syntok, seqeval, sentencepiece, langdetect, keras-bert, jieba, fastprogress, cchardet, ktrain\n",
      "  Attempting uninstall: Keras\n",
      "    Found existing installation: Keras 2.2.4\n",
      "    Uninstalling Keras-2.2.4:\n",
      "      Successfully uninstalled Keras-2.2.4\n",
      "Successfully installed Keras-2.4.3 cchardet-2.1.7 fastprogress-1.0.0 jieba-0.42.1 keras-bert-0.86.0 keras-embed-sim-0.8.0 keras-layer-normalization-0.14.0 keras-multi-head-0.27.0 keras-pos-embd-0.11.0 keras-position-wise-feed-forward-0.6.0 keras-self-attention-0.46.0 keras-transformer-0.38.0 ktrain-0.26.2 langdetect-1.0.9 sacremoses-0.0.45 sentencepiece-0.1.95 seqeval-0.0.19 syntok-1.3.1 tokenizers-0.10.2 transformers-4.3.3 whoosh-2.7.4\n"
     ]
    }
   ],
   "source": [
    "!pip install ktrain"
   ]
  },
  {
   "cell_type": "code",
   "execution_count": 6,
   "id": "guilty-centre",
   "metadata": {},
   "outputs": [],
   "source": [
    "import os, path\n",
    "import numpy as np\n",
    "import ktrain\n",
    "import tensorflow as tf\n",
    "from ktrain import text\n",
    "\n"
   ]
  },
  {
   "cell_type": "code",
   "execution_count": 9,
   "id": "automotive-cheat",
   "metadata": {},
   "outputs": [],
   "source": [
    "\n",
    "dataset = tf.keras.utils.get_file(fname=\"aclImdb_v1.tar.gz\",\n",
    "                                  origin=\"http://ai.stanford.edu/~amaas/data/sentiment/aclImdb_v1.tar.gz\",\n",
    "                                  extract=True)\n",
    "IMDB_DATADIR = os.path.join(os.path.dirname(dataset), 'aclImdb')"
   ]
  },
  {
   "cell_type": "code",
   "execution_count": 10,
   "id": "changed-athens",
   "metadata": {},
   "outputs": [
    {
     "name": "stdout",
     "output_type": "stream",
     "text": [
      "C:\\Users\\nugad\\.keras\\datasets\n",
      "C:\\Users\\nugad\\.keras\\datasets\\aclImdb\n"
     ]
    }
   ],
   "source": [
    "print(os.path.dirname(dataset))\n",
    "print(IMDB_DATADIR)"
   ]
  },
  {
   "cell_type": "code",
   "execution_count": 13,
   "id": "foster-roots",
   "metadata": {},
   "outputs": [
    {
     "name": "stdout",
     "output_type": "stream",
     "text": [
      "detected encoding: utf-8\n",
      "downloading pretrained BERT model (uncased_L-12_H-768_A-12.zip)...\n",
      "[██████████████████████████████████████████████████]\n",
      "extracting pretrained BERT model...\n",
      "done.\n",
      "\n",
      "cleanup downloaded zip...\n",
      "done.\n",
      "\n",
      "preprocessing train...\n",
      "language: en\n"
     ]
    },
    {
     "data": {
      "text/html": [
       "done."
      ],
      "text/plain": [
       "<IPython.core.display.HTML object>"
      ]
     },
     "metadata": {},
     "output_type": "display_data"
    },
    {
     "name": "stdout",
     "output_type": "stream",
     "text": [
      "Is Multi-Label? False\n",
      "preprocessing test...\n",
      "language: en\n"
     ]
    },
    {
     "data": {
      "text/html": [
       "done."
      ],
      "text/plain": [
       "<IPython.core.display.HTML object>"
      ]
     },
     "metadata": {},
     "output_type": "display_data"
    }
   ],
   "source": [
    "(x_train,y_train), (x_test,y_test), prepose = text.texts_from_folder(datadir=IMDB_DATADIR,\n",
    "                                                                    classes=['pos', 'neg'],\n",
    "                                                                    maxlen=500,\n",
    "                                                                    train_test_names=['train','test'],\n",
    "                                                                    preprocess_mode='bert')"
   ]
  },
  {
   "cell_type": "code",
   "execution_count": null,
   "id": "radical-coordinator",
   "metadata": {},
   "outputs": [],
   "source": []
  }
 ],
 "metadata": {
  "kernelspec": {
   "display_name": "Python 3",
   "language": "python",
   "name": "python3"
  },
  "language_info": {
   "codemirror_mode": {
    "name": "ipython",
    "version": 3
   },
   "file_extension": ".py",
   "mimetype": "text/x-python",
   "name": "python",
   "nbconvert_exporter": "python",
   "pygments_lexer": "ipython3",
   "version": "3.7.9"
  }
 },
 "nbformat": 4,
 "nbformat_minor": 5
}
